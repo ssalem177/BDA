{
 "cells": [
  {
   "cell_type": "code",
   "execution_count": 1901,
   "id": "dda5c43f-f468-4d45-9bfb-ca498f0005f1",
   "metadata": {},
   "outputs": [],
   "source": [
    "# Loading required packages\n",
    "\n",
    "import pandas as pd\n",
    "import matplotlib.pyplot as plt\n",
    "import numpy as np\n"
   ]
  },
  {
   "cell_type": "code",
   "execution_count": 1903,
   "id": "0809d031-6b97-4766-958f-b6cf86bb461c",
   "metadata": {},
   "outputs": [
    {
     "name": "stderr",
     "output_type": "stream",
     "text": [
      "/var/folders/sq/hskpm88j701ghk9f50_gb25r0000gn/T/ipykernel_94869/2500410212.py:4: ParserWarning: Falling back to the 'python' engine because the 'c' engine does not support regex separators (separators > 1 char and different from '\\s+' are interpreted as regex); you can avoid this warning by specifying engine='python'.\n",
      "  Twitter_ratings = pd.read_csv('ratings.csv',sep = \"::\",skipinitialspace = True, header = None)\n",
      "/var/folders/sq/hskpm88j701ghk9f50_gb25r0000gn/T/ipykernel_94869/2500410212.py:5: ParserWarning: Falling back to the 'python' engine because the 'c' engine does not support regex separators (separators > 1 char and different from '\\s+' are interpreted as regex); you can avoid this warning by specifying engine='python'.\n",
      "  Twitter_movies = pd.read_csv('movies.csv', sep = \"::\",skipinitialspace = True, header = None)\n"
     ]
    }
   ],
   "source": [
    "# After downloading files from Kaggle source, https://www.kaggle.com/datasets/tunguz/movietweetings/data?select=movies.dat\n",
    "# Convert to csv then read as follows\n",
    "\n",
    "Twitter_ratings = pd.read_csv('ratings.csv',sep = \"::\",skipinitialspace = True, header = None)\n",
    "Twitter_movies = pd.read_csv('movies.csv', sep = \"::\",skipinitialspace = True, header = None)"
   ]
  },
  {
   "cell_type": "markdown",
   "id": "4f527709-1534-4a42-9abf-3d5713d574b2",
   "metadata": {},
   "source": [
    "### The following cells are the code for Section 2.2"
   ]
  },
  {
   "cell_type": "code",
   "execution_count": 1905,
   "id": "cb82898a-1658-4d19-9188-5ef2c287d8b3",
   "metadata": {},
   "outputs": [],
   "source": [
    "\n",
    "#Getting the columns right\n",
    "\n",
    "Twitter_ratings.columns = ['user_id','movie_id','rating','rating_timestamp']\n",
    "Twitter_movies.columns = ['movie_id','movie title (movie year)','genre']\n",
    "\n",
    "Twitter_movies = Twitter_movies[['movie_id','movie title (movie year)']] # selecting only revelant columns\n",
    "Twitter_ratings = Twitter_ratings[['movie_id','rating']]\n",
    "\n"
   ]
  },
  {
   "cell_type": "code",
   "execution_count": 1907,
   "id": "0295660a-28ab-4e98-ba56-dd7107332be5",
   "metadata": {},
   "outputs": [],
   "source": [
    "# the goal is to now aggregate an average rating for all ratings with the same movie_id - for the Twitter_ratings dataset\n",
    "\n",
    "# can do this using simply using group_by function in pandas\n",
    "\n",
    "Aggregated_ratings = Twitter_ratings.groupby(['movie_id']).mean()\n",
    "\n",
    "# Now we need to match the movie_id with aggregated ratings. At this step, it is easier to work with numpy arrays"
   ]
  },
  {
   "cell_type": "code",
   "execution_count": 1909,
   "id": "8df6c9de-a298-4202-b5c7-92489e9339d7",
   "metadata": {},
   "outputs": [],
   "source": [
    "# Better to work with numpy arrays for this task, as its easier to work with\n",
    "\n",
    "movie_id = list(Aggregated_ratings.index.to_numpy())\n",
    "movie_ratings = list(Aggregated_ratings.values)\n",
    "\n",
    "tuple_ratings = []\n",
    "\n",
    "# getting movie_id and movie_ratings as tuples are easier to work with\n",
    "\n",
    "for i in range(len(movie_id)):\n",
    "    tuple_ratings.append((movie_id[i],movie_ratings[i][0]))\n",
    "\n",
    "movie_id_movs = list(Twitter_movies['movie_id'])\n",
    "movie_ratings_movs = list(Twitter_movies['movie title (movie year)'])\n",
    "\n",
    "\n",
    "tuple_ratings_movs = []\n",
    "\n",
    "for i in range(len(movie_id_movs)):\n",
    "    tuple_ratings_movs.append((movie_id_movs[i],movie_ratings_movs[i]))\n",
    "\n",
    "# removing duplicates\n",
    "\n",
    "for i in tuple_ratings_movs:\n",
    "    if tuple_ratings_movs.count(i) > 1:\n",
    "        tuple_ratings_movs.remove(i)\n",
    "        \n",
    "# Now searching through both files, matching movie_id's and then concatenating results\n",
    "# It does take some time, but this step is necessary as by inspection the movie_id list is not the same on both tuple lists\n",
    "\n",
    "final_ratings = []\n",
    "\n",
    "for i in range(len(tuple_ratings)):\n",
    "    for j in range(len(tuple_ratings_movs)):\n",
    "        if tuple_ratings[i][0] == tuple_ratings_movs[j][0]: # movie_id match\n",
    "            final_ratings.append((tuple_ratings_movs[j][0],tuple_ratings_movs[j][1],tuple_ratings[i][1]))"
   ]
  },
  {
   "cell_type": "code",
   "execution_count": 1911,
   "id": "7d00f947-76f1-4a0c-9f93-be433f0ef4d5",
   "metadata": {},
   "outputs": [],
   "source": [
    "# Even after previous steps there are still some duplicate names in films, these should also be removed, \n",
    "final_ratings_nd = []\n",
    "\n",
    "for i in range(len(final_ratings)):\n",
    "    final_ratings_nd.append(final_ratings[i])\n",
    "    match = False # whether or not i need be removed\n",
    "    for j in range(len(final_ratings)):\n",
    "        if i != j:\n",
    "            if final_ratings[i][1] == final_ratings[j][1]:\n",
    "                match = True\n",
    "\n",
    "    if match:\n",
    "        final_ratings_nd.remove(final_ratings[i])\n",
    "        "
   ]
  },
  {
   "cell_type": "code",
   "execution_count": 1913,
   "id": "caad4f26-3c1c-4dad-80a3-95eeb7d49af5",
   "metadata": {},
   "outputs": [],
   "source": [
    "# The Year value is quite good and can be used to complement the IMDB dataset in R, but it should be a new entry, not in the movie name column\n",
    "\n",
    "final_ratings_new = []\n",
    "\n",
    "for i in final_ratings_nd:\n",
    "    v = i[1] # movie name (year) value\n",
    "    index = v.find('(') # where the date starts\n",
    "    name = v[0:index-1] # removing space\n",
    "    year = v[index+1:index+5] # 4 characters makes year\n",
    "    final_ratings_new.append((i[0],name,year,i[2]))\n"
   ]
  },
  {
   "cell_type": "code",
   "execution_count": 1915,
   "id": "ed59e9aa-a6af-4929-8f73-17754429e5f4",
   "metadata": {},
   "outputs": [],
   "source": [
    "# Now turn final_ratings_new to a data frame and save to a csv file. movie_id is not needed so is removed\n",
    "\n",
    "Twitter_Ratings = pd.DataFrame(final_ratings_new)\n",
    "\n",
    "Twitter_Ratings = Twitter_Ratings[[1,2,3]]\n",
    "Twitter_Ratings.columns = ['movie_name','year','twitter_rating']\n",
    "\n",
    "# Now secondary goal is to match this with the IMDB dataset, note IMDB_cleaned is output of section 2.1 of the R code\n",
    "\n",
    "IMDB = pd.read_csv('IMDB_cleaned.csv')\n"
   ]
  },
  {
   "cell_type": "code",
   "execution_count": 1917,
   "id": "2bc9cf36-6335-402f-b026-f22d92a2fa80",
   "metadata": {},
   "outputs": [],
   "source": [
    "# Now we need to get the necessary columns of the IMDB dataset and match it with the Twitter Rattings movie column\n",
    "\n",
    "Twitter = Twitter_Ratings[['movie_name','year']]\n",
    "IMDB = IMDB[['names','year']]\n",
    "\n",
    "Twitter_movies = list(Twitter[['movie_name']].to_numpy())\n",
    "IMDB_movies = list(IMDB[['names']].to_numpy())\n",
    "\n",
    "Twitter_years = list(Twitter[['year']].to_numpy())\n",
    "IMDB_years = list(IMDB[['year']].to_numpy())"
   ]
  },
  {
   "cell_type": "code",
   "execution_count": 1919,
   "id": "2d5effc2-f24b-44f7-a188-a6b8df1699fe",
   "metadata": {},
   "outputs": [],
   "source": [
    "\n",
    "# Now search for a match, do a similar approach, this time making a tuple of a movie in the IMDB movies set, then appending rating as it appears in the Twitter set\n",
    "final_matches = []\n",
    "\n",
    "for i in range(len(IMDB_movies)):\n",
    "    for j in range(len(Twitter_movies)):\n",
    "        if (IMDB_movies[i][0] == Twitter_movies[j][0]) and (int(IMDB_years[i][0]) == int(Twitter_years[j][0])):\n",
    "            final_matches.append((IMDB_movies[i][0],Twitter_Ratings[Twitter_Ratings['movie_name'] == IMDB_movies[i][0]]))\n",
    "            \n",
    "\n",
    "    "
   ]
  },
  {
   "cell_type": "code",
   "execution_count": 1921,
   "id": "ddc6af7a-7cf4-49b4-aaf8-8f8dc45c5a5f",
   "metadata": {},
   "outputs": [
    {
     "data": {
      "text/plain": [
       "0.41481627038710944"
      ]
     },
     "execution_count": 1921,
     "metadata": {},
     "output_type": "execute_result"
    }
   ],
   "source": [
    "len(final_matches)/len(IMDB_movies) # quite a narrow match, but this is to be expected, and the missing values need to be dealt with. As of now just the average will be used\n",
    "\n"
   ]
  },
  {
   "cell_type": "code",
   "execution_count": 1923,
   "id": "0015fe87-56b8-4eb3-a3bd-a9cad92b1041",
   "metadata": {},
   "outputs": [],
   "source": [
    "# Only extracting the twitter rating\n",
    "\n",
    "IMDB_Movies = []\n",
    "\n",
    "for i in final_matches:\n",
    "    IMDB_Movies.append((i[0],i[1].iloc[0,1],i[1].iloc[0,2]))"
   ]
  },
  {
   "cell_type": "code",
   "execution_count": 1925,
   "id": "75554cf7-6000-49b4-bf20-bf93402aea22",
   "metadata": {},
   "outputs": [],
   "source": [
    "count = 0\n",
    "for i in IMDB_Movies:\n",
    "    if IMDB_Movies.count(i) > 1:\n",
    "        count += 1\n",
    "\n",
    "count # Even after the data extraction process there are still some leaks, they must sill be removed\n",
    "\n",
    "count = 0\n",
    "for i in IMDB_Movies:\n",
    "    if IMDB_Movies.count(i) > 1:\n",
    "        IMDB_Movies.remove(i)\n"
   ]
  },
  {
   "cell_type": "code",
   "execution_count": 1927,
   "id": "7b446573-1715-4870-88cf-c953c9cae13b",
   "metadata": {},
   "outputs": [
    {
     "data": {
      "text/plain": [
       "4034"
      ]
     },
     "execution_count": 1927,
     "metadata": {},
     "output_type": "execute_result"
    }
   ],
   "source": [
    "len(IMDB_Movies) # There are now only 4034 usable data sets left, down from a total of almost 10000. Nonetheless, as social media data is centreal to the research question, these are the only movies that can be used\n"
   ]
  },
  {
   "cell_type": "code",
   "execution_count": 1929,
   "id": "59ac631f-ee89-4c57-859e-42f7c7dd0c63",
   "metadata": {},
   "outputs": [],
   "source": [
    "\n",
    "# Now comes the difficult process of now restricting the dataset to the values of the IMDB dataset to that shown in the IMDB_Movies list\n",
    "final_tuple_list = []\n",
    "\n",
    "for i in IMDB_Movies:\n",
    "    new = IMDB[(IMDB['names'] == i[0]) & (IMDB['year'] == int(i[1]))] # restricting to the correct row\n",
    "    new = new.to_numpy() # converting to numpy for easy indexation\n",
    "\n",
    "    if np.shape(new) == (1,7):\n",
    "        final_tuple_list.append((new[0,0],new[0,1],new[0,2],new[0,3],new[0,4],new[0,5],i[2]))"
   ]
  },
  {
   "cell_type": "code",
   "execution_count": 1933,
   "id": "34a0be00-d0b6-4060-94e8-ba89b03a3326",
   "metadata": {},
   "outputs": [],
   "source": [
    "len(final_tuple_list) # slightly more data lost, only 3674 rows remain\n",
    "\n",
    "IMDB_final = pd.DataFrame(final_tuple_list)\n",
    "IMDB_final.columns = ['name','revenue','imdb_score','orig_lang','crew','budget','twitter_score']\n"
   ]
  },
  {
   "cell_type": "markdown",
   "id": "23eada46-f1e1-4796-803d-2b0a25dcb617",
   "metadata": {},
   "source": [
    "## Section 2.3 Actor-Twitter-IMDB (ATI) Dataset"
   ]
  },
  {
   "cell_type": "code",
   "execution_count": 1935,
   "id": "173fde58-908a-45a9-873f-da5cd5369155",
   "metadata": {},
   "outputs": [],
   "source": [
    "import numpy as np\n",
    "\n",
    "crew_array = np.array(IMDB_final[[\"crew\"]])\n",
    "\n",
    "cast = list()\n",
    "\n",
    "for i in crew_array:\n",
    "    cast.append(i[0])"
   ]
  },
  {
   "cell_type": "code",
   "execution_count": 1937,
   "id": "8bcb744d-0857-436a-823e-e51da763a993",
   "metadata": {},
   "outputs": [],
   "source": [
    "top_cast = pd.read_csv('top_actors.csv')"
   ]
  },
  {
   "cell_type": "code",
   "execution_count": 1939,
   "id": "3e565c7c-c980-42d8-9dde-1927d22429bc",
   "metadata": {},
   "outputs": [],
   "source": [
    "# turning it into a tuples list. Easier to work with \n",
    "\n",
    "top_cast_act = np.array(top_cast[[\"Actor\"]])\n",
    "top_cast_box = np.array(top_cast[[\"Total Box Office\"]])\n",
    "\n",
    "tuple_list = []\n",
    "\n",
    "for i in range(100):\n",
    "    tuple_list.append((top_cast_act[i][0],top_cast_box[i][0]))"
   ]
  },
  {
   "cell_type": "code",
   "execution_count": 1941,
   "id": "8cff635c-ecd5-4302-9584-4dfc27fae04e",
   "metadata": {},
   "outputs": [],
   "source": [
    "# making the tuple of top-box office have numeric money values\n",
    "\n",
    "tuple_list_new = []\n",
    "\n",
    "for i in tuple_list:\n",
    "    str = list(i[1])\n",
    "    for j in str:\n",
    "        if j == ' ':\n",
    "            str.remove(j)\n",
    "        if j == ',':\n",
    "            str.remove(j)\n",
    "        if j == '$':\n",
    "            str.remove(j)\n",
    "    str = \"\".join(str)\n",
    "    tuple_list_new.append((i[0],float(str)))"
   ]
  },
  {
   "cell_type": "code",
   "execution_count": 1943,
   "id": "5c57d8c9-45be-4994-9f47-7805599654ed",
   "metadata": {},
   "outputs": [],
   "source": [
    "top_box_office_stars = []\n",
    "\n",
    "# iterating the crew values, seeing which actors appear in the top 100 actors list\n",
    "\n",
    "for i in cast:\n",
    "    sum = 0\n",
    "    if type(i) == type('string'):\n",
    "        for j in i.split(', '):\n",
    "            for k in tuple_list_new:\n",
    "                if j == k[0]:\n",
    "                    sum = sum + k[1]\n",
    "        top_box_office_stars.append(sum)\n",
    "    else:\n",
    "        top_box_office_stars.append(-10000000)\n",
    "\n",
    "# now have the aligned 'top_box_office_stars'. simply append now to IMDB_final\n",
    "\n",
    "IMDB_final['actors_score'] = np.array(top_box_office_stars)\n",
    "IMDB_final = IMDB_final[['revenue','imdb_score','orig_lang','budget','twitter_score','actors_score']]"
   ]
  },
  {
   "cell_type": "code",
   "execution_count": 1945,
   "id": "544f691e-427f-4e17-811b-7e9c6469bab1",
   "metadata": {},
   "outputs": [],
   "source": [
    "# finish off and write to csv dataset. This is the final-cleaned ATI dataset\n",
    "\n",
    "IMDB_final.to_csv('ATI.csv')\n",
    "\n"
   ]
  },
  {
   "cell_type": "code",
   "execution_count": 1947,
   "id": "35386840-94c2-4b9f-a6a3-68c635146b45",
   "metadata": {},
   "outputs": [
    {
     "data": {
      "image/png": "[encoded data removed]",
      "text/plain": [
       "<Figure size 640x480 with 2 Axes>"
      ]
     },
     "metadata": {},
     "output_type": "display_data"
    }
   ],
   "source": [
    "ATI_final = pd.read_csv('ATI.csv')\n",
    "\n",
    "data = ATI_final[['twitter_score','imdb_score','budget','revenue','actors_score']]\n",
    "corr = data.corr()\n",
    "#matrix = np.triu(corr)\n",
    "sns.heatmap(corr, vmax=1.0, vmin=-1.0, fmt='.1g', annot=True)\n",
    "\n",
    "plt.title('Correlation matrix')\n",
    "plt.show()"
   ]
  }
 ],
 "metadata": {
  "kernelspec": {
   "display_name": "Python 3 (ipykernel)",
   "language": "python",
   "name": "python3"
  },
  "language_info": {
   "codemirror_mode": {
    "name": "ipython",
    "version": 3
   },
   "file_extension": ".py",
   "mimetype": "text/x-python",
   "name": "python",
   "nbconvert_exporter": "python",
   "pygments_lexer": "ipython3",
   "version": "3.12.4"
  }
 },
 "nbformat": 4,
 "nbformat_minor": 5
}
